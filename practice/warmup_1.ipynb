{
 "cells": [
  {
   "cell_type": "markdown",
   "id": "e59a897d-d1e1-4819-8192-962421db47a4",
   "metadata": {},
   "source": [
    "Q1. Given an array of N integers. Your task is to print the sum of all of the integers.\n",
    "Example 1:\n",
    "Input:\n",
    "4\n",
    "1 2 3 4\n",
    "Output:\n",
    "10\n",
    "Example 2:\n",
    "Input:\n",
    "6\n",
    "5 8 3 10 22 45\n",
    "Output:\n",
    "93"
   ]
  },
  {
   "cell_type": "code",
   "execution_count": 1,
   "id": "5d6980b8-b2ed-4a89-aa76-e0aeed6b0273",
   "metadata": {},
   "outputs": [
    {
     "name": "stdout",
     "output_type": "stream",
     "text": [
      "10\n"
     ]
    }
   ],
   "source": [
    "#Example 1\n",
    "list1 = [1, 2, 3,4]\n",
    "\n",
    "sum=0\n",
    "for i in list1:\n",
    "    sum+=i\n",
    "print(sum)"
   ]
  },
  {
   "cell_type": "code",
   "execution_count": 13,
   "id": "fb63d991-6405-407f-9359-9693138612a4",
   "metadata": {},
   "outputs": [
    {
     "name": "stdout",
     "output_type": "stream",
     "text": [
      "93\n"
     ]
    }
   ],
   "source": [
    "#Example 2\n",
    "list1 = [5, 8, 3, 10, 22, 45]\n",
    "\n",
    "sum=0\n",
    "for i in list1:\n",
    "    sum+=i\n",
    "print(sum)"
   ]
  },
  {
   "cell_type": "markdown",
   "id": "b1315d7b-52c7-4fca-8460-4f8bdf44eb49",
   "metadata": {},
   "source": [
    "Q2. Given an array A[] of N integers and an index Key. Your task is to print the element present at\n",
    "index key in the array.\n",
    "Example 1:\n",
    "Input:5 2\n",
    "10 20 30 40 50\n",
    "Output:\n",
    "30\n",
    "Example 2:\n",
    "Input:7 4\n",
    "10 20 30 40 50 60 70\n",
    "Output:\n",
    "50"
   ]
  },
  {
   "cell_type": "code",
   "execution_count": 5,
   "id": "a8f4b71a-5d29-4d46-a1e1-0911d02f2a94",
   "metadata": {},
   "outputs": [
    {
     "name": "stdout",
     "output_type": "stream",
     "text": [
      "30\n"
     ]
    }
   ],
   "source": [
    "#Example 1\n",
    "A=[10, 20, 30, 40, 50]\n",
    "N=5\n",
    "index=2\n",
    "print(A[index])"
   ]
  },
  {
   "cell_type": "code",
   "execution_count": 12,
   "id": "ee029f7f-de39-4eec-997b-b2b02bc86856",
   "metadata": {},
   "outputs": [
    {
     "name": "stdout",
     "output_type": "stream",
     "text": [
      "50\n"
     ]
    }
   ],
   "source": [
    "#Example 2\n",
    "A=[10, 20, 30, 40, 50,60,70]\n",
    "N=7\n",
    "index=4\n",
    "print(A[index])"
   ]
  },
  {
   "cell_type": "markdown",
   "id": "c8ab0f6e-2ee4-49a5-8e3c-f3af3bfd56db",
   "metadata": {},
   "source": [
    "Q3. Given an sorted array A of size N. Find number of elements which are less than or equal to given\n",
    "element X.\n",
    "Example 1:\n",
    "Input:\n",
    "N = 6\n",
    "A[] = {1, 2, 4, 5, 8, 10}\n",
    "X = 9\n",
    "Output:\n",
    "5\n",
    "Example 2:\n",
    "Input:\n",
    "N = 7\n",
    "A[] = {1, 2, 2, 2, 5, 7, 9}\n",
    "X = 2\n",
    "Output:\n",
    "4"
   ]
  },
  {
   "cell_type": "code",
   "execution_count": 10,
   "id": "4e69ce01-cfbd-41cb-aa25-8b9d86c68f77",
   "metadata": {},
   "outputs": [
    {
     "name": "stdout",
     "output_type": "stream",
     "text": [
      "5\n"
     ]
    }
   ],
   "source": [
    "#Example 1\n",
    "N = 6\n",
    "A = {1, 2, 4, 5, 8, 10}\n",
    "X = 9\n",
    "\n",
    "counter=0\n",
    "for i in A:\n",
    "    if(i<=X):\n",
    "        counter = counter+1\n",
    "\n",
    "print(counter)"
   ]
  },
  {
   "cell_type": "code",
   "execution_count": 11,
   "id": "fb02df8a-acda-4f34-ac14-fb5cca770bcb",
   "metadata": {},
   "outputs": [
    {
     "name": "stdout",
     "output_type": "stream",
     "text": [
      "7\n"
     ]
    }
   ],
   "source": [
    "#Example 2\n",
    "A = [1, 2, 2, 2, 5, 7, 9]\n",
    "\n",
    "counter=0\n",
    "for i in A:\n",
    "    if(i<=X):\n",
    "        counter = counter+1\n",
    "\n",
    "print(counter)"
   ]
  },
  {
   "cell_type": "markdown",
   "id": "611070a1-805d-4c6d-9714-307e20e97ed1",
   "metadata": {},
   "source": [
    "Q4. You are given an array A of size N. You need to print elements of A in alternate order (starting\n",
    "from index 0).\n",
    "Example 1:\n",
    "Input:\n",
    "N = 4\n",
    "A[] = {1, 2, 3, 4}\n",
    "Output:\n",
    "1 3\n",
    "Example 2:\n",
    "Input:\n",
    "N = 5\n",
    "A[] = {1, 2, 3, 4, 5}\n",
    "Output:\n",
    "1 3 5"
   ]
  },
  {
   "cell_type": "code",
   "execution_count": 9,
   "id": "94f6c99c-377c-4105-95fb-93f7bb1f8b2b",
   "metadata": {},
   "outputs": [
    {
     "name": "stdout",
     "output_type": "stream",
     "text": [
      "[1, 3]\n"
     ]
    }
   ],
   "source": [
    "#Example 1\n",
    "A= [1, 2, 3, 4]\n",
    "alternateList = []\n",
    "\n",
    "for i in range(0,len(A),2):\n",
    "    alternateList.append(A[i])\n",
    "\n",
    "print(alternateList)"
   ]
  },
  {
   "cell_type": "code",
   "execution_count": 8,
   "id": "781d30f8-2a88-484f-8334-d6b249d5876d",
   "metadata": {},
   "outputs": [
    {
     "name": "stdout",
     "output_type": "stream",
     "text": [
      "[1, 3, 5]\n"
     ]
    }
   ],
   "source": [
    "#Example 2\n",
    "N = 5\n",
    "A = [1, 2, 3, 4, 5]\n",
    "alternateList = []\n",
    "\n",
    "for i in range(0,len(A),2):\n",
    "    alternateList.append(A[i])\n",
    "\n",
    "print(alternateList)"
   ]
  },
  {
   "cell_type": "markdown",
   "id": "c1252fa9-23ca-4eb9-90c4-b04f88c4d225",
   "metadata": {},
   "source": [
    "Q5. Given an array Arr of N positive integers. Your task is to find the elements whose value is equal\n",
    "to that of its index value ( Consider 1-based indexing ).\n",
    "Example 1:\n",
    "Input:\n",
    "N = 5\n",
    "Arr[] = {15, 2, 45, 12, 7}\n",
    "Output: 2\n",
    "Explanation: Only Arr[2] = 2 exists here.\n",
    "Example 2:\n",
    "Input:\n",
    "N = 1\n",
    "Arr[] = {1}\n",
    "Output: 1\n",
    "Explanation: Here Arr[1] = 1 exists."
   ]
  },
  {
   "cell_type": "code",
   "execution_count": 21,
   "id": "5cdf4002-af4f-4618-8668-1b869b65d45b",
   "metadata": {},
   "outputs": [
    {
     "name": "stdout",
     "output_type": "stream",
     "text": [
      "2\n"
     ]
    }
   ],
   "source": [
    "#Example 1\n",
    "N = 5\n",
    "Arr = [15, 2, 45, 12, 7]\n",
    "\n",
    "for index,element in enumerate(Arr):\n",
    "    if index+1 == element:\n",
    "        print(element)"
   ]
  },
  {
   "cell_type": "code",
   "execution_count": 7,
   "id": "9f714d5d-453f-4622-b4d0-5e5c6edb6d65",
   "metadata": {},
   "outputs": [
    {
     "name": "stdout",
     "output_type": "stream",
     "text": [
      "1\n"
     ]
    }
   ],
   "source": [
    "#Example 2\n",
    "\n",
    "Arr = [1]\n",
    "for index,element in enumerate(Arr):\n",
    "    if index+1 == element:\n",
    "        print(element)"
   ]
  },
  {
   "cell_type": "markdown",
   "id": "7ecda462-4d0c-48ab-9d24-6e794eb007a3",
   "metadata": {},
   "source": [
    "Q6. Given an array of size N and you have to tell whether the array is perfect or not. An array is said\n",
    "to be perfect if it's reverse array matches the original array. If the array is perfect then print\n",
    "\"PERFECT\" else print \"NOT PERFECT\"\n",
    ".\n",
    "Example 1:\n",
    "Input : Arr[] = {1, 2, 3, 2, 1}\n",
    "Output : PERFECT\n",
    "Explanation:\n",
    "Here we can see we have [1, 2, 3, 2, 1]\n",
    "if we reverse it we can find [1, 2, 3, 2, 1]\n",
    "which is the same as before.\n",
    "So, the answer is PERFECT.\n",
    "Example 2:\n",
    "Input : Arr[] = {1, 2, 3, 4, 5}\n",
    "Output : NOT PERFECT"
   ]
  },
  {
   "cell_type": "code",
   "execution_count": 34,
   "id": "f7ffce8d-9f5a-419f-9d62-6dbe0f903590",
   "metadata": {},
   "outputs": [
    {
     "name": "stdout",
     "output_type": "stream",
     "text": [
      "PERFECT\n"
     ]
    }
   ],
   "source": [
    "#Example 1\n",
    "Arr1 = [1, 2, 3, 2, 1]\n",
    "#Output : PERFECT\n",
    "Arr2 = [1, 2, 3, 4, 5]\n",
    "#Output : NOT PERFECT\n",
    "\n",
    "output= \"PERFECT\"\n",
    "for i in range(int(len(Arr1)/2)):\n",
    "    if Arr1[i] == Arr1[len(Arr1)-1-i]:\n",
    "        continue\n",
    "    else:\n",
    "        output=\"NOT PERFECT\"\n",
    "\n",
    "print(output)"
   ]
  },
  {
   "cell_type": "code",
   "execution_count": 35,
   "id": "0ebfc0a6-314b-4f00-bfb8-19607aa6fc1d",
   "metadata": {},
   "outputs": [
    {
     "name": "stdout",
     "output_type": "stream",
     "text": [
      "NOT PERFECT\n"
     ]
    }
   ],
   "source": [
    "#Example 2\n",
    "Arr2 = [1, 2, 3, 4, 5]\n",
    "#Output : NOT PERFECT\n",
    "\n",
    "output= \"PERFECT\"\n",
    "for i in range(int(len(Arr2)/2)):\n",
    "    if Arr1[i] == Arr2[len(Arr2)-1-i]:\n",
    "        continue\n",
    "    else:\n",
    "        output=\"NOT PERFECT\"\n",
    "\n",
    "print(output)"
   ]
  },
  {
   "cell_type": "code",
   "execution_count": null,
   "id": "a8e16214-c63d-46b0-bc1a-2ba9b42872ba",
   "metadata": {},
   "outputs": [],
   "source": [
    "Q7. Given an array of length N, at each step it is reduced by 1 element. In the first step the maximum\n",
    "element would be removed, while in the second step minimum element of the remaining array would\n",
    "be removed, in the third step again the maximum and so on. Continue this till the array contains only 1\n",
    "element. And find the final element remaining in the array.\n",
    "Example 1:\n",
    "Input:\n",
    "N = 7\n",
    "A[] = {7, 8, 3, 4, 2, 9, 5}\n",
    "Ouput:\n",
    "5\n",
    "Explanation:\n",
    "In first step '9' would be removed, in 2nd step\n",
    "'2' will be removed, in third step '8' will be\n",
    "removed and so on. So the last remaining\n",
    "element would be '5'\n",
    ".\n",
    "Example 2:\n",
    "Input:\n",
    "N = 8\n",
    "A[] = {8, 1, 2, 9, 4, 3, 7, 5}\n",
    "Ouput:\n",
    "4"
   ]
  },
  {
   "cell_type": "code",
   "execution_count": 5,
   "id": "1753599f-e93b-4b5b-b370-19425fb9b57e",
   "metadata": {},
   "outputs": [
    {
     "name": "stdout",
     "output_type": "stream",
     "text": [
      "[5]\n"
     ]
    }
   ],
   "source": [
    "#Example 1\n",
    "A = [7, 8, 3, 4, 2, 9, 5]\n",
    "\n",
    "A.sort()\n",
    "\n",
    "counter=0\n",
    "while (len(A))>1:\n",
    "    if counter%2==0:\n",
    "        A.pop(-1)\n",
    "    else:\n",
    "        A.pop(0)\n",
    "    counter=counter+1\n",
    "        \n",
    "print(A)"
   ]
  },
  {
   "cell_type": "code",
   "execution_count": 6,
   "id": "4b9ab464-6465-4b77-9b16-82099c37113f",
   "metadata": {},
   "outputs": [
    {
     "name": "stdout",
     "output_type": "stream",
     "text": [
      "[4]\n"
     ]
    }
   ],
   "source": [
    "#Example 2\n",
    "A = [8, 1, 2, 9, 4, 3, 7, 5]\n",
    "\n",
    "A.sort()\n",
    "\n",
    "counter=0\n",
    "while (len(A))>1:\n",
    "    if counter%2==0:\n",
    "        A.pop(-1)\n",
    "    else:\n",
    "        A.pop(0)\n",
    "    counter=counter+1\n",
    "        \n",
    "print(A)"
   ]
  },
  {
   "cell_type": "code",
   "execution_count": null,
   "id": "855c30f4-f1f1-4790-b629-5cfa77fd2081",
   "metadata": {},
   "outputs": [],
   "source": [
    "Q8. Given an array of N distinct elements, the task is to find all elements in array except two greatest elements in sorted order.\n",
    "Example 1:\n",
    "Input :\n",
    "a[] = {2, 8, 7, 1, 5}\n",
    "Output :1 2 5\n",
    "\n",
    "Explanation :The output three elements have two or more greater elements.\n",
    "\n",
    "Example 2:\n",
    "Input :\n",
    "a[] = {7,-2, 3, 4, 9,-1}\n",
    "Output : -2 -1 3 4"
   ]
  },
  {
   "cell_type": "code",
   "execution_count": 15,
   "id": "9e6ffb66-ab8b-4700-9e73-95c58c45c5b9",
   "metadata": {},
   "outputs": [
    {
     "name": "stdout",
     "output_type": "stream",
     "text": [
      "[1, 2, 5]\n"
     ]
    }
   ],
   "source": [
    "a = [2, 8, 7, 1, 5]\n",
    "#Output :1 2 5\n",
    "\n",
    "a.sort()\n",
    "print(a[:-2])"
   ]
  },
  {
   "cell_type": "code",
   "execution_count": 17,
   "id": "74015059-78ce-4f40-bd1d-d92d0217c85e",
   "metadata": {},
   "outputs": [
    {
     "name": "stdout",
     "output_type": "stream",
     "text": [
      "[-2, -1, 3, 4]\n"
     ]
    }
   ],
   "source": [
    "a = [7,-2, 3, 4, 9,-1]\n",
    "# Output : -2 -1 3 4\n",
    "\n",
    "a.sort()\n",
    "print(a[:-2])"
   ]
  },
  {
   "cell_type": "code",
   "execution_count": null,
   "id": "330ed3e4-be65-4e06-bba1-895c67f31c4c",
   "metadata": {},
   "outputs": [],
   "source": [
    "Q9. Write a program to find the sum of the given series 1+2+3+. . . . . .(N terms)\n",
    "\n",
    "Example 1:\n",
    "Input:N = 1\n",
    "Output: 1\n",
    "\n",
    "Explanation: For n = 1, sum will be 1.\n",
    "\n",
    "Example 2:\n",
    "Input:N = 5\n",
    "Output: 15\n",
    "Explanation: For n = 5, sum will be 1\n",
    "+ 2 + 3 + 4 + 5 = 15."
   ]
  },
  {
   "cell_type": "code",
   "execution_count": 25,
   "id": "7320a002-b47b-47eb-a0b5-f65196a14ba7",
   "metadata": {},
   "outputs": [],
   "source": [
    "def sum(n):\n",
    "    return int(n*(n+1)/2)"
   ]
  },
  {
   "cell_type": "code",
   "execution_count": 28,
   "id": "71feac63-f35e-40f6-b695-a8e387ce18e8",
   "metadata": {},
   "outputs": [
    {
     "name": "stdout",
     "output_type": "stream",
     "text": [
      "1\n",
      "15\n"
     ]
    }
   ],
   "source": [
    "#Example 1:\n",
    "n = 1\n",
    "print(sum(n))\n",
    "\n",
    "#Example 2:\n",
    "n = 5\n",
    "print(sum(n))"
   ]
  },
  {
   "cell_type": "code",
   "execution_count": null,
   "id": "63737d3b-07dd-4b60-8d53-a0f797ff725f",
   "metadata": {},
   "outputs": [],
   "source": [
    "Q10. Given a number N. Your task is to check whether it is fascinating or not.\n",
    "Fascinating Number: When a number(should contain 3 digits or more) is multiplied by 2 and 3 ,and\n",
    "when both these products are concatenated with the original number, then it results in all digits from 1\n",
    "to 9 present exactly once.\n",
    "Example 1:\n",
    "Input:\n",
    "N = 192\n",
    "Output: Fascinating\n",
    "Explanation: After multiplication with 2 and 3, and concatenating with original number, number will become 192384576 \n",
    "which contains all digits from 1 to 9.\n",
    "\n",
    "Example 2:\n",
    "Input:\n",
    "N = 853\n",
    "Output: Not Fascinating\n",
    "Explanation: It's not a fascinating number."
   ]
  },
  {
   "cell_type": "code",
   "execution_count": 3,
   "id": "f3e18434-6abe-43a2-8d18-07ba481ad889",
   "metadata": {},
   "outputs": [],
   "source": [
    "def concatenatedNumber(n):\n",
    "    mul_2=n*2\n",
    "    mul_3= n*3\n",
    "    return (str(n)+str(mul_2)+str(mul_3))\n",
    "    \n",
    "def isFacinating(n):\n",
    "    numbers= concatenatedNumber(n)\n",
    "    dict_num={}\n",
    "    \n",
    "    if str(0) in numbers:\n",
    "       return \"It's not a fascinating number\" \n",
    "        \n",
    "    for j in numbers:\n",
    "        dict_num[j]=dict_num.get(j,0)+1\n",
    "        if dict_num[j]>1:\n",
    "            print(j)\n",
    "            return \"It's not a fascinating number\"\n",
    "\n",
    "    if all(dict_num.get(i,0)==1 for i in numbers):\n",
    "        return \"Fascinating\""
   ]
  },
  {
   "cell_type": "code",
   "execution_count": 5,
   "id": "f9d346e4-7a23-4205-836b-572113901f43",
   "metadata": {},
   "outputs": [
    {
     "name": "stdout",
     "output_type": "stream",
     "text": [
      "Fascinating\n",
      "It's not a fascinating number\n"
     ]
    }
   ],
   "source": [
    "print(isFacinating(192)) # Example 1:\n",
    "print(isFacinating(853)) #Example 2:"
   ]
  },
  {
   "cell_type": "code",
   "execution_count": null,
   "id": "253bf350-e28a-4a20-9570-5f5c5f69de33",
   "metadata": {},
   "outputs": [],
   "source": [
    "Bonus Question\n",
    "Given an array of even size N, task is to find minimum value that can be added to an element so that\n",
    "array become balanced. An array is balanced if the sum of the left half of the array elements is equal\n",
    "to the sum of right half.\n",
    "\n",
    "Example 1:\n",
    "Input:\n",
    "N = 4\n",
    "arr[] = {1, 5, 3, 2}\n",
    "Output: 1\n",
    "Explanation:\n",
    "Sum of first 2 elements is 1 + 5 = 6,\n",
    "Sum of last 2 elements is 3 + 2 = 5,\n",
    "To make the array balanced you can add 1.\n",
    "\n",
    "Example 2:\n",
    "Input:\n",
    "N = 6\n",
    "arr[] = { 1, 2, 1, 2, 1, 3 }\n",
    "Output: 2\n",
    "Explanation:\n",
    "Sum of first 3 elements is 1 + 2 + 1 = 4,\n",
    "Sum of last three elements is 2 + 1 + 3 = 6,\n",
    "To make the array balanced you can add 2."
   ]
  },
  {
   "cell_type": "code",
   "execution_count": 7,
   "id": "05d20b5f-38e6-43fa-b67c-ebe71fd26073",
   "metadata": {},
   "outputs": [],
   "source": [
    "#Example 1:\n",
    "N = 4\n",
    "arr = [1, 5, 3, 2]\n",
    "#Output: 1"
   ]
  },
  {
   "cell_type": "code",
   "execution_count": 16,
   "id": "cc2ba796-fc05-4be7-bfd1-b535128d916a",
   "metadata": {},
   "outputs": [],
   "source": [
    "def minimumNumberBalance(n,arr):\n",
    "    sum1 = 0\n",
    "    for i in arr[:len(arr)//2]:\n",
    "        sum1 = sum1 + i\n",
    "        \n",
    "    sum2=0    \n",
    "    for i in arr[len(arr)//2:]:\n",
    "        sum2 = sum2 + i\n",
    "    \n",
    "    return abs(sum1-sum2)"
   ]
  },
  {
   "cell_type": "code",
   "execution_count": 18,
   "id": "c03a818b-0bda-45a7-b681-fc4d3c0a0689",
   "metadata": {},
   "outputs": [
    {
     "name": "stdout",
     "output_type": "stream",
     "text": [
      "1\n",
      "2\n"
     ]
    }
   ],
   "source": [
    "print(minimumNumberBalance(4,[1, 5, 3, 2])) #Example 1\n",
    "print(minimumNumberBalance(6,[1, 2, 1, 2, 1, 3])) #Example 2"
   ]
  }
 ],
 "metadata": {
  "kernelspec": {
   "display_name": "Python 3 (ipykernel)",
   "language": "python",
   "name": "python3"
  },
  "language_info": {
   "codemirror_mode": {
    "name": "ipython",
    "version": 3
   },
   "file_extension": ".py",
   "mimetype": "text/x-python",
   "name": "python",
   "nbconvert_exporter": "python",
   "pygments_lexer": "ipython3",
   "version": "3.12.7"
  }
 },
 "nbformat": 4,
 "nbformat_minor": 5
}
